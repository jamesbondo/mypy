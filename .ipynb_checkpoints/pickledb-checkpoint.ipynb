{
 "cells": [
  {
   "cell_type": "code",
   "execution_count": 314,
   "metadata": {
    "collapsed": false
   },
   "outputs": [
    {
     "name": "stdout",
     "output_type": "stream",
     "text": [
      "0.1\n",
      "['layer3', 'layer2', 'layer1', 'layer5', 'layer4', 'response_type']\n",
      "   layer3  layer2  layer1  layer5  layer4 response_type\n",
      "0     0.1     0.1     0.1     0.1     0.1          tanh\n",
      "1     0.2     0.2     0.2     0.2     0.2          tanh\n",
      "2     0.3     0.3     0.3     0.3     0.3          tanh\n",
      "===\n",
      "   layer3  layer2  layer1  layer5  layer4 response_type\n",
      "0     0.1     0.1     0.1     0.1     0.1          tanh\n",
      "1     0.2     0.2     0.2     0.2     0.2          tanh\n",
      "2     0.3     0.3     0.3     0.3     0.3          tanh\n",
      "===\n",
      "Index([u'layer3', u'layer2', u'layer1', u'layer5', u'layer4',\n",
      "       u'response_type'],\n",
      "      dtype='object')\n",
      "===\n",
      "0.1 yereere\n",
      "[ True  True  True  True  True  True]\n",
      "[ 0.1  0.2  0.3] <type 'numpy.ndarray'>\n",
      "{'layer3': array([ 0.1,  0.2,  0.3])}\n",
      "{'layer3': [0.1, 0.2, 0.3]}\n",
      "   layer3\n",
      "0     0.1\n",
      "1     0.2\n",
      "2     0.3\n",
      "   layer3\n",
      "0     0.1\n",
      "1     0.2\n",
      "2     0.3\n"
     ]
    }
   ],
   "source": [
    "group = {'layer1':[0.1,0.2,0.3],\n",
    "         'layer2':[0.1,0.2,0.3],\n",
    "         'layer3':[0.1,0.2,0.3],\n",
    "         'layer4':[0.1,0.2,0.3],\n",
    "         'layer5':[0.1,0.2,0.3],\n",
    "         'response_type':'tanh'\n",
    "        }\n",
    "df = pd.DataFrame(group, columns = group.keys())\n",
    "# print df['layer1'][0]\n",
    "print df[group.keys()[0]][0]\n",
    "print group.keys()\n",
    "df.to_csv('./data/group.csv')\n",
    "dfr = pd.read_csv('./data/group.csv',header=False,names=group.keys())\n",
    "print df\n",
    "print \"===\"\n",
    "print dfr\n",
    "print \"===\"\n",
    "print dfr.keys()\n",
    "print \"===\"\n",
    "print dfr[group.keys()[0]][0], \"yereere\"\n",
    "print group.keys() == dfr.keys()\n",
    "a= dfr[group.keys()[0]]\n",
    "an = np.array(a)\n",
    "print an, type(an)\n",
    "groupa = {group.keys()[0]:an}\n",
    "print groupa\n",
    "groupab = {group.keys()[0]:an.tolist()}\n",
    "print groupab\n",
    "dfa = pd.DataFrame(groupa,columns=groupa.keys())\n",
    "print dfa\n",
    "dfab = pd.DataFrame(groupab,columns=groupab.keys())\n",
    "print dfab\n",
    "dfa.to_csv('./data/groupa.csv')\n",
    "dfab.to_csv('./data/groupab.csv')"
   ]
  },
  {
   "cell_type": "code",
   "execution_count": 82,
   "metadata": {
    "collapsed": false
   },
   "outputs": [
    {
     "name": "stdout",
     "output_type": "stream",
     "text": [
      "[ 4.4] 5.0\n",
      "[ 0.3] 0.0\n",
      "[ 0.7] 1.0\n",
      "{0: array([ 22.]), 1: array([ 0.]), 2: array([ 0.7])}\n",
      "[ 6.9]\n"
     ]
    }
   ],
   "source": [
    "import numpy as np\n",
    "dic={}\n",
    "wFactor=[4.4,0.3,0.7]\n",
    "x=np.array([5.4,0.3,0.7])\n",
    "for i,item in enumerate(wFactor):\n",
    "    print np.atleast_1d(item),x[i].round(0)\n",
    "    dic[i]=np.atleast_1d(item)*x[i].round(0)\n",
    "print dic\n",
    "print [2.3]*3,np.array([2.3])*3"
   ]
  },
  {
   "cell_type": "code",
   "execution_count": null,
   "metadata": {
    "collapsed": true
   },
   "outputs": [],
   "source": [
    "# dic = dict(enumerate(np.array([0.3,0.2,0.1])))\n",
    "# print dic"
   ]
  },
  {
   "cell_type": "code",
   "execution_count": 281,
   "metadata": {
    "collapsed": false
   },
   "outputs": [
    {
     "name": "stdout",
     "output_type": "stream",
     "text": [
      "Jason\n",
      "  first_name last_name  age postTestScore  preTestScore\n",
      "0      Jason    Miller   42        25,000             4\n",
      "1      Molly  Jacobson   52        94,000            24\n",
      "===\n",
      "  first_name last_name  age postTestScore  preTestScore\n",
      "0      Jason    Miller   42        25,000             4\n",
      "1      Molly  Jacobson   52        94,000            24\n",
      "===\n",
      "Index([u'first_name', u'last_name', u'age', u'postTestScore', u'preTestScore'], dtype='object')\n",
      "===\n",
      "Miller\n"
     ]
    }
   ],
   "source": [
    "raw_data = {'first_name': ['Jason', 'Molly'],\n",
    "        'last_name': ['Miller', 'Jacobson'],\n",
    "        'age': [42, 52],\n",
    "        'preTestScore': [4, 24],\n",
    "        'postTestScore': [\"25,000\", \"94,000\"]}\n",
    "df = pd.DataFrame(raw_data, columns = raw_data.keys())\n",
    "print df['first_name'][0]\n",
    "df.to_csv('./data/example.csv')\n",
    "dfr = pd.read_csv('./data/example.csv',header=False,names=raw_data.keys())\n",
    "print df\n",
    "print \"===\"\n",
    "print dfr\n",
    "print \"===\"\n",
    "print dfr.keys()\n",
    "print \"===\"\n",
    "print dfr[\"last_name\"][0]\n"
   ]
  },
  {
   "cell_type": "code",
   "execution_count": 234,
   "metadata": {
    "collapsed": false
   },
   "outputs": [
    {
     "name": "stdout",
     "output_type": "stream",
     "text": [
      "0    Jake\n",
      "1     Amy\n",
      "Name: first_name, dtype: object <type 'str'>\n",
      "Jake\n",
      "[('first_name', ['Jake', 'Amy']), ('last_name', ['Milner', 'Cooze']), ('age', [24, 73]), ('postTestScore', [62, 70]), ('preTestScore', [2, 3])]\n",
      "======\n",
      "   Unnamed: 0 first_name last_name  age  postTestScore  preTestScore\n",
      "0           0       Jake    Milner   24             62             2\n",
      "1           1        Amy     Cooze   73             70             3\n"
     ]
    }
   ],
   "source": [
    "raw_data = {'first_name': ['Jake', 'Amy'],\n",
    "        'last_name': ['Milner', 'Cooze'],\n",
    "        'age': [24, 73],\n",
    "        'preTestScore': [2, 3],\n",
    "        'postTestScore': [62, 70]}\n",
    "raw2 = {'first_name': ['jack'],\n",
    "        'last_name': ['miler'],\n",
    "        'age': [23],\n",
    "        'preTestScore': [2],\n",
    "        'postTestScore': [2]}\n",
    "df = pd.DataFrame(raw_data,columns=raw_data.keys())\n",
    "df.to_csv('./data/example.csv')\n",
    "print df.first_name,type(df.first_name[1])\n",
    "df\n",
    "print df.first_name[0]\n",
    "print raw_data.items()\n",
    "print \"======\"\n",
    "dfr = pd.read_csv('./data/example.csv')\n",
    "# print dfr, dfr.columns\n",
    "print dfr"
   ]
  },
  {
   "cell_type": "code",
   "execution_count": 14,
   "metadata": {
    "collapsed": false
   },
   "outputs": [
    {
     "name": "stdout",
     "output_type": "stream",
     "text": [
      "{'A': 1, 'C': 3, 'B': 2}\n",
      "{'A': 1, 'C': 3, 'B': 2}\n",
      "('A', [1]) [1]\n",
      "('A', [2, 2])\n",
      "[]\n",
      "[1, 1, 1]\n",
      "1.453 1.453\n",
      "('FL', 'Jacksonville')\n",
      "('CA', 'San Francisco')\n",
      "('MI', 'Detroit')\n",
      "('OR', 'Portland')\n",
      "('NY', 'New York')\n",
      "===\n",
      "FL\n",
      "CA\n",
      "MI\n",
      "OR\n",
      "NY\n"
     ]
    }
   ],
   "source": [
    "print dict([('A', 1), ('B', 2), ('C', 3)])\n",
    "print {'A': 1, 'C': 3, 'B': 2}\n",
    "# tu = ('A', [1])\n",
    "# print tu, tu[1]\n",
    "# tu[1][0]=2\n",
    "# tu[1].append(2)\n",
    "# print tu\n",
    "# listlist = []\n",
    "# print listlist\n",
    "# listlist = [1]*3\n",
    "# print listlist\n",
    "a={(1,1):1.453, (1,2):2.967}\n",
    "print a[(1,1)], a[1,1]\n",
    "states = {\n",
    "    'Oregon': 'OR',\n",
    "    'Florida': 'FL',\n",
    "    'California': 'CA',\n",
    "    'New York': 'NY',\n",
    "    'Michigan': 'MI'\n",
    "}\n",
    "cities = {\n",
    "    'CA': 'San Francisco',\n",
    "    'MI': 'Detroit',\n",
    "    'FL': 'Jacksonville',\n",
    "    'NY': 'New York',\n",
    "    'OR': 'Portland'\n",
    "}\n",
    "for abb,city in cities.items():\n",
    "    print (abb,city)\n",
    "print \"===\"\n",
    "for key in cities:\n",
    "    print key"
   ]
  },
  {
   "cell_type": "code",
   "execution_count": 144,
   "metadata": {
    "collapsed": false
   },
   "outputs": [
    {
     "name": "stdout",
     "output_type": "stream",
     "text": [
      " {\"id\": 2, \"name\": \"hussain\"}\n",
      "2 hussain\n"
     ]
    }
   ],
   "source": [
    "m = {'id': 2, 'name': 'hussain'}\n",
    "n = json.dumps(m)\n",
    "print n\n",
    "# print n[\"id\"]\n",
    "o = json.loads(n)\n",
    "print o['id'], o['name']"
   ]
  },
  {
   "cell_type": "code",
   "execution_count": 140,
   "metadata": {
    "collapsed": false
   },
   "outputs": [
    {
     "name": "stdout",
     "output_type": "stream",
     "text": [
      "{'muffin': 'lolz', 'foo': 'kitty'} lolz\n",
      "{'foo': 'bar', 'foo2': 'bar2'}\n",
      "{u'foo': u'bar', u'foo2': u'bar2'} bar <type 'unicode'>\n",
      "======\n",
      "{\"muffin\" : \"lolz\", \"foo\" : \"kitty\"} {u'muffin': u'lolz', u'foo': u'kitty'} lolz\n"
     ]
    }
   ],
   "source": [
    "import ast\n",
    "a=ast.literal_eval(\"{'muffin' : 'lolz', 'foo' : 'kitty'}\")\n",
    "print a,a[\"muffin\"]\n",
    "# b=ast.literal_eval('{'muffin' : 'lolz', 'foo' : 'kitty'}')\n",
    "# print b\n",
    "h = '{\"foo\":\"bar\", \"foo2\":\"bar2\"}'\n",
    "b=ast.literal_eval(h)\n",
    "print b\n",
    "c=json.loads(h)\n",
    "print c,c[\"foo\"],type(c[\"foo\"])\n",
    "print \"======\"\n",
    "s = \"{'muffin' : 'lolz', 'foo' : 'kitty'}\"\n",
    "# d=json.loads(s)\n",
    "# print d\n",
    "spro = s.replace(\"'\", \"\\\"\")\n",
    "sdic=json.loads(spro)\n",
    "print spro,sdic,sdic[\"muffin\"]\n",
    "# print spro[\"muffin\"]"
   ]
  },
  {
   "cell_type": "code",
   "execution_count": 126,
   "metadata": {
    "collapsed": false
   },
   "outputs": [
    {
     "name": "stdout",
     "output_type": "stream",
     "text": [
      "27 None\n",
      "default string\n",
      "False\n",
      "{'Age': 27, 'Name': 'Zara'} {'Age': 27, 'Name': 'Zara'}\n",
      "{'Age': 27, 'Name': 'Zara', 'Job': 'coder'} {'Age': 27, 'Name': 'Zara'}\n",
      "[('Age', 27), ('Name', 'Zara')]\n",
      "returns a list of dict's (key, value) tuple pairs\n",
      "{'state': 'ca', 'where': 'us'} {'Age': 27, 'where': 'us', 'Name': 'Zara', 'state': 'ca'}\n",
      "{'state': 'ca', 'Name': 'Zara', 'Age': 27, 'where': 'us', 'Job': 'coder'}\n",
      "human food\n",
      "{'state': 'ca', 'Name': 'Zara', 'food': 'human food', 'Age': 27, 'where': 'us', 'Job': 'coder'}\n",
      "Zara\n"
     ]
    }
   ],
   "source": [
    "dic = {'Name': 'Zara', 'Age': 27}\n",
    "print dic.get(\"Age\"),dic.get(\"sex\")\n",
    "print dic.get(\"sex\",\"default string\")\n",
    "print dic.has_key(\"sex\")\n",
    "dicCopy = dic.copy()\n",
    "print dicCopy,dic\n",
    "dicCopy[\"Job\"]=\"coder\"\n",
    "print dicCopy,dic\n",
    "print dic.items()\n",
    "print \"returns a list of dict's (key, value) tuple pairs\"\n",
    "doc = {\"where\":\"us\",\"state\":\"ca\"}\n",
    "dic.update(doc)\n",
    "print doc, dic\n",
    "dic.update(dicCopy)\n",
    "print dic\n",
    "print dic.setdefault(\"food\",\"human food\")\n",
    "print dic\n",
    "print dic.setdefault(\"Name\",\"what??\")"
   ]
  },
  {
   "cell_type": "code",
   "execution_count": 111,
   "metadata": {
    "collapsed": false
   },
   "outputs": [
    {
     "name": "stdout",
     "output_type": "stream",
     "text": [
      "3409 2\n",
      "{} nothing elft\n",
      "{'soso': '34534'} [] []\n",
      "True\n",
      "=====\n",
      "{'guido': 2423, 'jack': 2039, 'savy': 2098}\n",
      "{'sape': 2342} <type 'dict'>\n",
      "['sape', 2232] <type 'list'>\n",
      "{'guido': 2423, 'jack': 2039, 'savy': 2098}\n",
      "====\n",
      "{'age': None, 'name': None, 'sex': None}\n",
      "{'age': [2, 3, 4], 'name': [2, 3, 4], 'sex': [2, 3, 4]}\n"
     ]
    }
   ],
   "source": [
    "tel = {'jack':3409,'sape':2343}\n",
    "tel[\"dell\"]=9202\n",
    "del tel[\"sape\"]\n",
    "print tel[\"jack\"], len(tel)\n",
    "# print tel[\"meow\"]\n",
    "tel.clear()\n",
    "print tel, \"nothing elft\"\n",
    "dic={}\n",
    "dic[\"soso\"]=\"34534\"\n",
    "print dic, tel.keys(),tel.values()\n",
    "print \"soso\" in dic\n",
    "print \"=====\"\n",
    "made = dict(savy=2098,guido=2423,jack=2039)\n",
    "print made\n",
    "made2 = dict([(\"sape\",2342)])\n",
    "print made2, type(made2)\n",
    "# wrong = dict(\"sape\",2342)\n",
    "made3 = ([\"sape\",2232])\n",
    "print made3, type(made3)\n",
    "# made4 = dict([\"sape\",2232])\n",
    "# print made4\n",
    "print str(made)\n",
    "print \"====\"\n",
    "seq = ('name', 'age', 'sex')\n",
    "dic = dict.fromkeys(seq)\n",
    "print dic\n",
    "dic2 = dict.fromkeys(seq,[2,3,4])\n",
    "print dic2"
   ]
  },
  {
   "cell_type": "code",
   "execution_count": 73,
   "metadata": {
    "collapsed": false
   },
   "outputs": [
    {
     "name": "stdout",
     "output_type": "stream",
     "text": [
      "          A         B\n",
      "0  1.199850 -0.100840\n",
      "1 -0.891368  0.742527\n",
      "2 -0.205091  0.028784\n",
      "3 -0.436605  0.692958\n",
      "4 -0.049393 -0.081783\n",
      "=====\n",
      "{\"A\":{\"0\":1.1998500243,\"1\":-0.8913682344,\"2\":-0.205091429,\"3\":-0.4366050989,\"4\":-0.0493934591},\"B\":{\"0\":-0.1008396585,\"1\":0.7425272635,\"2\":0.0287837678,\"3\":0.6929580937,\"4\":-0.0817834756}} <type 'str'>\n",
      "{u'A': {u'1': -0.8913682344, u'0': 1.1998500243, u'3': -0.4366050989, u'2': -0.205091429, u'4': -0.0493934591}, u'B': {u'1': 0.7425272635, u'0': -0.1008396585, u'3': 0.6929580937, u'2': 0.0287837678, u'4': -0.0817834756}}\n",
      "1.1998500243\n",
      "=====\n",
      "   A  B  C\n",
      "x  1  4  7\n",
      "y  2  5  8\n",
      "z  3  6  9\n"
     ]
    }
   ],
   "source": [
    "import json as json\n",
    "dfj = pd.DataFrame(np.random.randn(5, 2), columns=list('AB'))\n",
    "print dfj\n",
    "print \"=====\"\n",
    "obj = dfj.to_json()\n",
    "print obj, type(obj)\n",
    "print json.loads(obj)[\"A\"][\"0\"]\n",
    "print \"=====\"\n",
    "dfjo = pd.DataFrame(dict(A=range(1, 4), B=range(4, 7), C=range(7, 10)), columns=list('ABC'), index=list('xyz'))\n",
    "print dfjo"
   ]
  },
  {
   "cell_type": "code",
   "execution_count": 44,
   "metadata": {
    "collapsed": false
   },
   "outputs": [
    {
     "name": "stdout",
     "output_type": "stream",
     "text": [
      "{\"answer\": [42.2], \"abs\": 42}\n",
      "{u'answer': [42.2], u'abs': 42}\n",
      "{\n",
      "  \"answer\": [\n",
      "    42.2\n",
      "  ], \n",
      "  \"abs\": 42\n",
      "}\n",
      "{\"password\": \"secret\", \"name\": \"Alice A. Adams\"}\n",
      "[\"Tiger\", \"Toad\", \"Panther\"]\n"
     ]
    }
   ],
   "source": [
    "import json\n",
    "obj={u\"answer\":[42.2],u'abs':42}\n",
    "print(json.dumps(obj))\n",
    "obj_json = u'{\"answer\": [42.2], \"abs\": 42}'\n",
    "obj = json.loads(obj_json)\n",
    "print(repr(obj))\n",
    "obj = {u\"answer\": [42.2], u\"abs\": 42}\n",
    "print(json.dumps(obj, indent=2))\n",
    "class User(object):\n",
    "    def __init__(self, name, password):\n",
    "        self.name = name\n",
    "        self.password = password\n",
    "alice = User('Alice A. Adams', 'secret')\n",
    "# json.dumps(alice)\n",
    "def jdefault(o):\n",
    "    return o.__dict__\n",
    "print(json.dumps(alice, default=jdefault))\n",
    "def jdefault(o):\n",
    "    if isinstance(o, set):\n",
    "        return list(o)\n",
    "    return o.__dict__\n",
    "\n",
    "pets = set([u'Tiger', u'Panther', u'Toad'])\n",
    "print(json.dumps(pets, default=jdefault))\n"
   ]
  },
  {
   "cell_type": "code",
   "execution_count": 37,
   "metadata": {
    "collapsed": false
   },
   "outputs": [
    {
     "name": "stdout",
     "output_type": "stream",
     "text": [
      "['test value', 'test value 2', 'test value 3'] True\n"
     ]
    }
   ],
   "source": [
    "import pickle\n",
    "a = ['test value','test value 2','test value 3']\n",
    "file_Name = \"./data/data.csv\"\n",
    "file_Name2 = \"./data/data.txt\"\n",
    "fileObject = open(file_Name,'wb')\n",
    "# print fileObject\n",
    "pickle.dump(a,fileObject)\n",
    "fileObject.close()\n",
    "fileObject = open(file_Name,'r')\n",
    "b = pickle.load(fileObject)\n",
    "print b,a==b"
   ]
  },
  {
   "cell_type": "code",
   "execution_count": 25,
   "metadata": {
    "collapsed": false
   },
   "outputs": [],
   "source": [
    "a = np.array([ [1,2,3], [4,5,6], [7,8,9] ])\n",
    "np.savetxt(\"./data/data.csv\", a, delimiter=\",\")"
   ]
  },
  {
   "cell_type": "code",
   "execution_count": 22,
   "metadata": {
    "collapsed": false
   },
   "outputs": [],
   "source": [
    "# urlname=\"http://www.google.com/index.html\"\n",
    "# ds.exists(urlname)\n",
    "# ds = np.DataSource()\n",
    "# gfile = ds.open(urlname)\n",
    "# print gfile\n",
    "# lfile = ds.open('')\n",
    "# print lfile"
   ]
  },
  {
   "cell_type": "code",
   "execution_count": 2,
   "metadata": {
    "collapsed": true
   },
   "outputs": [],
   "source": [
    "import numpy as np\n",
    "import pandas as pd"
   ]
  }
 ],
 "metadata": {
  "kernelspec": {
   "display_name": "Python 2",
   "language": "python",
   "name": "python2"
  },
  "language_info": {
   "codemirror_mode": {
    "name": "ipython",
    "version": 2
   },
   "file_extension": ".py",
   "mimetype": "text/x-python",
   "name": "python",
   "nbconvert_exporter": "python",
   "pygments_lexer": "ipython2",
   "version": "2.7.10"
  }
 },
 "nbformat": 4,
 "nbformat_minor": 0
}
