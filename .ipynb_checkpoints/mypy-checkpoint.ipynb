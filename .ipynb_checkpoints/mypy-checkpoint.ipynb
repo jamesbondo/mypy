{
 "cells": [
  {
   "cell_type": "code",
   "execution_count": 91,
   "metadata": {
    "collapsed": false
   },
   "outputs": [
    {
     "ename": "AttributeError",
     "evalue": "'dict' object has no attribute 'habituateAT'",
     "output_type": "error",
     "traceback": [
      "\u001b[0;31m---------------------------------------------------------------------------\u001b[0m",
      "\u001b[0;31mAttributeError\u001b[0m                            Traceback (most recent call last)",
      "\u001b[0;32m<ipython-input-91-4ef425747436>\u001b[0m in \u001b[0;36m<module>\u001b[0;34m()\u001b[0m\n\u001b[1;32m     51\u001b[0m \u001b[0mgroup1\u001b[0m \u001b[0;34m=\u001b[0m \u001b[0mLayer_w_tanh\u001b[0m\u001b[0;34m(\u001b[0m\u001b[0mwFactor\u001b[0m\u001b[0;34m)\u001b[0m\u001b[0;34m\u001b[0m\u001b[0m\n\u001b[1;32m     52\u001b[0m \u001b[0mX\u001b[0m\u001b[0;34m=\u001b[0m \u001b[0mnp\u001b[0m\u001b[0;34m.\u001b[0m\u001b[0marray\u001b[0m\u001b[0;34m(\u001b[0m\u001b[0;34m[\u001b[0m\u001b[0;36m3.6\u001b[0m\u001b[0;34m,\u001b[0m\u001b[0;36m1.5\u001b[0m\u001b[0;34m,\u001b[0m\u001b[0;36m1.5\u001b[0m\u001b[0;34m]\u001b[0m\u001b[0;34m)\u001b[0m\u001b[0;34m\u001b[0m\u001b[0m\n\u001b[0;32m---> 53\u001b[0;31m \u001b[0mgroup1\u001b[0m\u001b[0;34m.\u001b[0m\u001b[0mstimulateBY\u001b[0m\u001b[0;34m(\u001b[0m\u001b[0mX\u001b[0m\u001b[0;34m)\u001b[0m\u001b[0;34m\u001b[0m\u001b[0m\n\u001b[0m",
      "\u001b[0;32m<ipython-input-91-4ef425747436>\u001b[0m in \u001b[0;36mstimulateBY\u001b[0;34m(self, X)\u001b[0m\n\u001b[1;32m     38\u001b[0m \u001b[0;31m#         print self.discharge\u001b[0m\u001b[0;34m\u001b[0m\u001b[0;34m\u001b[0m\u001b[0m\n\u001b[1;32m     39\u001b[0m     \u001b[0;32mdef\u001b[0m \u001b[0mstimulateBY\u001b[0m\u001b[0;34m(\u001b[0m\u001b[0mself\u001b[0m\u001b[0;34m,\u001b[0m\u001b[0mX\u001b[0m\u001b[0;34m)\u001b[0m\u001b[0;34m:\u001b[0m\u001b[0;34m\u001b[0m\u001b[0m\n\u001b[0;32m---> 40\u001b[0;31m         \u001b[0mself\u001b[0m\u001b[0;34m.\u001b[0m\u001b[0mx2w\u001b[0m\u001b[0;34m(\u001b[0m\u001b[0mX\u001b[0m\u001b[0;34m)\u001b[0m\u001b[0;34m\u001b[0m\u001b[0m\n\u001b[0m\u001b[1;32m     41\u001b[0m         \u001b[0mself\u001b[0m\u001b[0;34m.\u001b[0m\u001b[0mchargeBY\u001b[0m\u001b[0;34m(\u001b[0m\u001b[0mX\u001b[0m\u001b[0;34m)\u001b[0m\u001b[0;34m\u001b[0m\u001b[0m\n\u001b[1;32m     42\u001b[0m         \u001b[0mself\u001b[0m\u001b[0;34m.\u001b[0m\u001b[0mresponseTO\u001b[0m\u001b[0;34m(\u001b[0m\u001b[0mX\u001b[0m\u001b[0;34m)\u001b[0m\u001b[0;34m\u001b[0m\u001b[0m\n",
      "\u001b[0;32m<ipython-input-91-4ef425747436>\u001b[0m in \u001b[0;36mx2w\u001b[0;34m(self, X)\u001b[0m\n\u001b[1;32m     24\u001b[0m     \u001b[0;32mdef\u001b[0m \u001b[0mx2w\u001b[0m\u001b[0;34m(\u001b[0m\u001b[0mself\u001b[0m\u001b[0;34m,\u001b[0m\u001b[0mX\u001b[0m\u001b[0;34m)\u001b[0m\u001b[0;34m:\u001b[0m\u001b[0;34m\u001b[0m\u001b[0m\n\u001b[1;32m     25\u001b[0m         \u001b[0;32mfor\u001b[0m \u001b[0mi\u001b[0m\u001b[0;34m,\u001b[0m \u001b[0mwFactor\u001b[0m \u001b[0;32min\u001b[0m \u001b[0menumerate\u001b[0m\u001b[0;34m(\u001b[0m\u001b[0mself\u001b[0m\u001b[0;34m.\u001b[0m\u001b[0mwFactor\u001b[0m\u001b[0;34m)\u001b[0m\u001b[0;34m:\u001b[0m\u001b[0;34m\u001b[0m\u001b[0m\n\u001b[0;32m---> 26\u001b[0;31m             \u001b[0;32mif\u001b[0m \u001b[0mX\u001b[0m\u001b[0;34m[\u001b[0m\u001b[0mi\u001b[0m\u001b[0;34m]\u001b[0m\u001b[0;34m>\u001b[0m\u001b[0mself\u001b[0m\u001b[0;34m.\u001b[0m\u001b[0madapt\u001b[0m\u001b[0;34m.\u001b[0m\u001b[0mhabituateAT\u001b[0m\u001b[0;34m:\u001b[0m\u001b[0;34m\u001b[0m\u001b[0m\n\u001b[0m\u001b[1;32m     27\u001b[0m                 \u001b[0mX\u001b[0m\u001b[0;34m[\u001b[0m\u001b[0mi\u001b[0m\u001b[0;34m]\u001b[0m\u001b[0;34m=\u001b[0m\u001b[0mself\u001b[0m\u001b[0;34m.\u001b[0m\u001b[0madapt\u001b[0m\u001b[0;34m.\u001b[0m\u001b[0mhabituateAT\u001b[0m\u001b[0;34m\u001b[0m\u001b[0m\n\u001b[1;32m     28\u001b[0m             \u001b[0mself\u001b[0m\u001b[0;34m.\u001b[0m\u001b[0mwDict\u001b[0m\u001b[0;34m[\u001b[0m\u001b[0mi\u001b[0m\u001b[0;34m]\u001b[0m\u001b[0;34m=\u001b[0m\u001b[0;34m[\u001b[0m\u001b[0mwFactor\u001b[0m\u001b[0;34m]\u001b[0m\u001b[0;34m*\u001b[0m\u001b[0mX\u001b[0m\u001b[0;34m[\u001b[0m\u001b[0mi\u001b[0m\u001b[0;34m]\u001b[0m\u001b[0;34m.\u001b[0m\u001b[0mround\u001b[0m\u001b[0;34m(\u001b[0m\u001b[0;36m0\u001b[0m\u001b[0;34m)\u001b[0m   \u001b[0;31m# extend each list only, not changing value\u001b[0m\u001b[0;34m\u001b[0m\u001b[0m\n",
      "\u001b[0;31mAttributeError\u001b[0m: 'dict' object has no attribute 'habituateAT'"
     ]
    }
   ],
   "source": [
    "\n",
    "class Layer_w_tanh:\n",
    "    def __init__(self,wFactor):\n",
    "        self.response = np.tanh\n",
    "        self.adapt={  \n",
    "            'habituateAT':7,     # by nature\n",
    "            'enhanceAT':2       # by nature\n",
    "        }\n",
    "        self.adaptFactor=0.1   # by nature\n",
    "        self.threshold = 1 # changes, not up-bounded. such a weird thing to have.... changes based on enviroment... like ion concentraction\n",
    "        self.wFactor=np.array(wFactor)\n",
    "        self.wDict={}\n",
    "        self.charge={}\n",
    "        self.discharge={}\n",
    "    def adaptW(self,i,Xi): \n",
    "        if Xi>=self.adapt.habituateAT:\n",
    "            self.wDict[i] = self.wDict[i] - self.adaptFactor  #  need to refine it.. self.eta * error * x or something like that...\n",
    "        elif Xi>=self.adapt.enhanceAT:\n",
    "            self.wDict[i] = self.wDict[i] + self.adaptFactor\n",
    "        else:\n",
    "            print i, \" weight not changed\"\n",
    "    def x2w(self,X):\n",
    "        for i, wFactor in enumerate(self.wFactor):\n",
    "#             if X[i]>self.adapt.habituateAT:\n",
    "#                 X[i]=self.adapt.habituateAT\n",
    "            self.wDict[i]=[wFactor]*X[i].round(0)   # extend each list only, not changing value\n",
    "    def chargeBY(self,X):\n",
    "        for i, neuron in self.wDict.iteritems():\n",
    "            self.charge[i] = np.array(neuron)*X[i]\n",
    "            # self.adaptW(i,X[i])\n",
    "            print i,np.array(neuron)*X[i]\n",
    "    def responseTO(self,X):\n",
    "        for i, charge in self.charge.iteritems():\n",
    "            print i, self.response(charge-self.threshold)\n",
    "            self.discharge[i]=self.response(charge-self.threshold)\n",
    "#         print self.discharge\n",
    "    def stimulateBY(self,X):\n",
    "        self.x2w(X)\n",
    "        self.chargeBY(X)\n",
    "        self.responseTO(X)\n",
    "\n",
    "\n",
    "# be careful the dependencies here.\n",
    "# how to make sure X and wFactor same dimension?\n",
    "# x squre, too big?...\n",
    "# how to interpret output? relevance? or twitch strength?\n",
    "\n",
    "wFactor=[0.9,0.9,0.7] # 0<=w<=1, load from file, none random.\n",
    "group1 = Layer_w_tanh(wFactor)\n",
    "X= np.array([3.6,1.5,1.5])\n",
    "group1.stimulateBY(X)"
   ]
  },
  {
   "cell_type": "code",
   "execution_count": null,
   "metadata": {
    "collapsed": false
   },
   "outputs": [],
   "source": []
  },
  {
   "cell_type": "code",
   "execution_count": 4,
   "metadata": {
    "collapsed": false
   },
   "outputs": [
    {
     "name": "stdout",
     "output_type": "stream",
     "text": [
      "[[9, 9, 9, 0, 0, 0] [0, 9]]\n",
      "([9, 9, 9, 0, 0, 0], [0])\n",
      "[9, 9, 9, 0, 0, 0] [9, 9, 9, 0, 0, 0]\n",
      "{0: [9, 9, 9, 0, 0, 0], 1: [9, 9, 9, 0, 0, 0], 2: [9, 9, 9, 0, 0, 0, 9], 3: [3, 4, 5]}\n",
      "[1, 1, 1, 1, 1]\n",
      "===\n",
      "[ 0.3  0.3  0.3]\n",
      "0.3\n",
      "0.2\n",
      "0.1\n",
      "{0: 0.29999999999999999, 1: 0.20000000000000001, 2: 0.10000000000000001}\n"
     ]
    }
   ],
   "source": [
    "a=np.array([[9,9,9,0,0,0],[0,9]])\n",
    "print a\n",
    "print ([9,9,9,0,0,0],[0])\n",
    "dic = {0:[9,9,9,0,0,0],\n",
    "      1:[9,9,9,0,0,0],\n",
    "      2:[9,9,9,0,0,0,9]\n",
    "      }\n",
    "print dic[1], dic.get(0)\n",
    "dic[3]=[3,4,5]\n",
    "print dic\n",
    "print [1]*5\n",
    "# listT = [(0,4),(1,5)]\n",
    "# print listT[0]\n",
    "print \"===\"\n",
    "print np.array([0.3]*3)\n",
    "# print np.array([0.3]*3)\n",
    "\n",
    "\n",
    "wFactor=np.array([0.3,0.2,0.1])\n",
    "dic={}\n",
    "# for i,k in enumerate(wFactor):\n",
    "#     dic[i]=k\n",
    "#     print k\n",
    "# print dic\n",
    "# dic = dict(enumerate(wFactor))\n",
    "# print dic"
   ]
  },
  {
   "cell_type": "code",
   "execution_count": null,
   "metadata": {
    "collapsed": true
   },
   "outputs": [],
   "source": []
  }
 ],
 "metadata": {
  "kernelspec": {
   "display_name": "Python 2",
   "language": "python",
   "name": "python2"
  },
  "language_info": {
   "codemirror_mode": {
    "name": "ipython",
    "version": 2
   },
   "file_extension": ".py",
   "mimetype": "text/x-python",
   "name": "python",
   "nbconvert_exporter": "python",
   "pygments_lexer": "ipython2",
   "version": "2.7.10"
  }
 },
 "nbformat": 4,
 "nbformat_minor": 0
}
